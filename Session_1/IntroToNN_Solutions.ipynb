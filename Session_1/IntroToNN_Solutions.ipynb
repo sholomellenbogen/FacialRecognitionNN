{
 "cells": [
  {
   "cell_type": "markdown",
   "metadata": {},
   "source": [
    "# Introduction to Neural Networks"
   ]
  },
  {
   "cell_type": "markdown",
   "metadata": {},
   "source": [
    "We want to install the following packages this week:\n",
    "  - Numpy\n",
    "  - Matplotlib\n",
    "  - Jupyter\n",
    "\n",
    "The main goals of this session is to get our feet wet programming in Python and to understand some of the basics of machine learning by coding a perceptron.\n",
    "\n",
    "## Neurons\n",
    "\n",
    "As an abstraction, a neuron can be viewed as the most basic unit of computation, similar to a logic gate.\n",
    "A logic gate is the most basic unit of digital computing: It receives some electrical input or inputs and provides some output, usually after some function (linear or non-linear.)\n",
    "\n",
    "![alt text](AndGate.svg \"And Gate\")\n",
    "\n",
    "A /real/ neuron consists of a dendrite, which collects and transforms inputs from other areas of the brain, a cell body that accumulates these inputs and an output that is transmisted through an axon.\n",
    "Clearly they share a lot of similiarities with logic gates.\n",
    "However, there are many details and vast differences when digging past this simple analogy.\n",
    "As an example, there are 100s of different kinds of neurons, connected in many different ways depending on brain area and purpose, and the dynamics of neurons are also vastly complicated.\n",
    "\n",
    "![alt text](neuron.jpg \"Neuron\")\n",
    "\n",
    "The artificial neurons we'll be dealing with are much simpler than real neurons.\n",
    "We just require that they take some inputs, changed a by connection weights, and compute some non-linear function based on that.\n",
    "\n",
    "![alt text](artificialNeuron.jpg \"Neuron\")\n",
    "\n",
    "We'll call this a neuron. or a unit.\n",
    "\n",
    "## Perceptron\n",
    "\n",
    "Let's just concentrate on a model with some set of input neurons and some set of output neurons.\n",
    "The output neurons will take some value from the inputs, multiply that by the weights, and then pass that through a non-linear function.\n",
    "We can choose the Heavyside function to be our non-linearity such that the perceptron will output one of two labels: 0 or 1.\n",
    "\n",
    "This system turns out to be very robust and useful at solving a wide variety of classification problems.\n",
    "However, it can only solve linearly separable problems.\n",
    "\n",
    "![alt text](linearClassifier.png \"Neuron\")\n",
    "\n",
    "### Considerations: Cost Function\n",
    "In the 2D case, it is easy to plot the data and check that your choice of weights is actually separating the data.\n",
    "However, when we jump to higher dimensions (sometimes millions of dimensions), this becomes impossible.\n",
    "For that reason we turn to a cost function: a way of evaluating how well our solution is performing.\n",
    "In the case of the perceptron we want for one set of data to lie above the plane (the positive side, or the side labeled as 1) and the other set to lie below the plane (the negative side or the side labeled as 0.)\n",
    "\n",
    "Therefore one of the possible cost functions we could use is:\n",
    "\n",
    "$C(y, \\hat y) = (y - \\hat  y)$\n",
    "\n",
    "Where:\n",
    "  - $y$: is the class of the input (ie 0 or 1)\n",
    "  - $\\hat y$: is the model's predicted class given the input (again 0 or 1)\n",
    "\n",
    "Another popular cost function is:\n",
    "\n",
    "$C(y, \\hat y) = \\frac{1}{2}(y - \\hat  y)^2$\n",
    "\n",
    "There are many others and it is one of the key choices in the algorithm design. We will be using the first one for the perceptron.\n",
    "\n",
    "\n",
    "### Considerations: Training Algorithm\n",
    "For real problems it is untractable to manipulate the weights individually and manually. This where the _machine_ part of machine learning comes in. We want an algorithm that can manipulate the weights towards a solution that minimizes the cost function (ie it brings the model closer to a good solution.) For the perceptron we have a pretty simple way of updating the weights.\n",
    "\n",
    "$\\vec w_{i+1} = \\vec w_i + (\\hat y - y)\\cdot\\vec x$\n",
    "\n",
    "What this equation does is to update to the weights based on the cost and the input that made that cost. If $\\hat y = y$ then the difference will be zero and the weights will remain the same, however if the they are not equal then there will be some update to the weights. If the difference is positive ($(\\hat y - y) > 0$) then we'll move the weight vector closer to $\\vec x$. If the difference is negative ($(\\hat y - y) > 0$) then we'll move the weight vector to be anti-parallel (pointing in exactly the opposite direction) of $\\vec x$."
   ]
  },
  {
   "cell_type": "markdown",
   "metadata": {},
   "source": [
    "# Exercises"
   ]
  },
  {
   "cell_type": "markdown",
   "metadata": {},
   "source": [
    "In this notebook you'll find a series of classification problems. You need to build a perceptron with two inputs, one output and a bias. Then for each the problems try to find what set of weights will allow you to solve the problem."
   ]
  },
  {
   "cell_type": "code",
   "execution_count": 6,
   "metadata": {},
   "outputs": [],
   "source": [
    "import numpy as np\n",
    "import matplotlib.pyplot as plt\n",
    "%matplotlib inline"
   ]
  },
  {
   "cell_type": "code",
   "execution_count": 7,
   "metadata": {},
   "outputs": [],
   "source": [
    "def perceptron(X, w):\n",
    "    \"\"\"\n",
    "    Here is where your code should go.\n",
    "    Remember the bias term.\n",
    "    \"\"\"\n",
    "    return w[:-1] @ X + w[-1] >= 0"
   ]
  },
  {
   "cell_type": "markdown",
   "metadata": {},
   "source": [
    "## Problem 1: Vertical Separation"
   ]
  },
  {
   "cell_type": "code",
   "execution_count": 8,
   "metadata": {},
   "outputs": [],
   "source": [
    "def problem1(perceptron=None, weights=None, training=None):\n",
    "    pop1 = np.random.normal([-3, 0], [ 0.7, 0.7], size=[100,2])\n",
    "    pop2 = np.random.normal([ 3, 0], [ 0.7, 0.7], size=[100,2])\n",
    "    plt.scatter(pop1[:,0], pop1[:,1], color='blue')\n",
    "    plt.scatter(pop2[:,0], pop2[:,1], color='green')\n",
    "    if not(perceptron is None):\n",
    "        if weights is None and training is None:\n",
    "            print('One of weights or training must be set if a perceptron is passed')\n",
    "        elif not(weights is None):\n",
    "            pass\n",
    "        elif not(training is None):\n",
    "            dataset = np.concatenate([pop1,pop2], axis=0)\n",
    "            labels = np.concatenate([np.zeros(100),np.ones(100)]).reshape(200,1)\n",
    "            weights = training(dataset, labels, perceptron)\n",
    "            print('Your training algorithm got the following weights: {}'.format(weights))\n",
    "        \n",
    "        size = 500\n",
    "        X,Y = np.meshgrid(np.linspace(-10,10,size),np.linspace(-10,10,size))\n",
    "        x = np.stack([X,Y], axis=-1)\n",
    "        Z = np.zeros([size, size])\n",
    "        for i in range(size):\n",
    "            for j in range(size):\n",
    "                Z[i,j] = perceptron(x[i,j,:], weights)\n",
    "        plt.contour(X,Y,Z, [0])\n",
    "    plt.xlim([-7, 7])\n",
    "    plt.ylim([-7, 7])"
   ]
  },
  {
   "cell_type": "code",
   "execution_count": 9,
   "metadata": {
    "scrolled": false
   },
   "outputs": [
    {
     "name": "stdout",
     "output_type": "stream",
     "text": [
      "Your training algorithm got the following weights: [ 3.46545461 -1.95361252 -1.02178653]\n"
     ]
    },
    {
     "name": "stderr",
     "output_type": "stream",
     "text": [
      "C:\\Users\\sholo\\Miniconda3\\lib\\site-packages\\matplotlib\\contour.py:1173: UserWarning: No contour levels were found within the data range.\n",
      "  warnings.warn(\"No contour levels were found\"\n"
     ]
    },
    {
     "data": {
      "image/png": "[encoded data removed]",
      "text/plain": [
       "<Figure size 432x288 with 1 Axes>"
      ]
     },
     "metadata": {},
     "output_type": "display_data"
    }
   ],
   "source": [
    "problem1(perceptron, training=trainPerceptron)"
   ]
  },
  {
   "cell_type": "markdown",
   "metadata": {},
   "source": [
    "## Problem 2: Horizontal Separation"
   ]
  },
  {
   "cell_type": "code",
   "execution_count": 10,
   "metadata": {},
   "outputs": [],
   "source": [
    "def problem2(perceptron=None, weights=None, training=None):\n",
    "    pop1 = np.random.normal([-1.5, 1.5], [ 0.7, 1.7], size=[100,2])\n",
    "    pop2 = np.random.normal([ 0, -5], [ 0.4, 0.7], size=[100,2])\n",
    "    plt.scatter(pop1[:,0], pop1[:,1], color='blue')\n",
    "    plt.scatter(pop2[:,0], pop2[:,1], color='green')\n",
    "    if not(perceptron is None):\n",
    "        if weights is None and training is None:\n",
    "            print('One of weights or training must be set if a perceptron is passed')\n",
    "        elif not(weights is None):\n",
    "            pass\n",
    "        elif not(training is None):\n",
    "            dataset = np.concatenate([pop1,pop2], axis=0)\n",
    "            labels = np.concatenate([np.zeros(100),np.ones(100)]).reshape(200,1)\n",
    "            weights = training(dataset, labels, perceptron)\n",
    "            print('Your training algorithm got the following weights: {}'.format(weights))\n",
    "\n",
    "        size = 500\n",
    "        X,Y = np.meshgrid(np.linspace(-10,10,size),np.linspace(-10,10,size))\n",
    "        x = np.stack([X,Y], axis=-1)\n",
    "        Z = np.zeros([size, size])\n",
    "        for i in range(size):\n",
    "            for j in range(size):\n",
    "                Z[i,j] = perceptron(x[i,j,:], weights)\n",
    "        plt.contour(X,Y,Z, [0])\n",
    "    plt.xlim([-7, 7])\n",
    "    plt.ylim([-7, 7])"
   ]
  },
  {
   "cell_type": "code",
   "execution_count": 11,
   "metadata": {},
   "outputs": [
    {
     "name": "stdout",
     "output_type": "stream",
     "text": [
      "Your training algorithm got the following weights: [ 6.17518305 -2.66904769 -2.02634929]\n"
     ]
    },
    {
     "name": "stderr",
     "output_type": "stream",
     "text": [
      "C:\\Users\\sholo\\Miniconda3\\lib\\site-packages\\matplotlib\\contour.py:1173: UserWarning: No contour levels were found within the data range.\n",
      "  warnings.warn(\"No contour levels were found\"\n"
     ]
    },
    {
     "data": {
      "image/png": "[encoded data removed]",
      "text/plain": [
       "<Figure size 432x288 with 1 Axes>"
      ]
     },
     "metadata": {},
     "output_type": "display_data"
    }
   ],
   "source": [
    "problem2(perceptron, training=trainPerceptron)"
   ]
  },
  {
   "cell_type": "markdown",
   "metadata": {
    "collapsed": true
   },
   "source": [
    "## Problem 3: Diagonal Separation"
   ]
  },
  {
   "cell_type": "code",
   "execution_count": 12,
   "metadata": {},
   "outputs": [],
   "source": [
    "def problem3(perceptron=None, weights=None, training=None):\n",
    "    pop1 = np.zeros([200,2])\n",
    "    for i,j in enumerate(((0,0), (1.5,1.5), (-1.5,-1.5), (-3,-3.5))):\n",
    "        pop1[50*i:50*(i+1),:] = np.random.normal(j, [ 0.7, 0.7], size=[50,2])\n",
    "    pop2 = np.random.normal([ 1, -5], [ 0.6, 0.7], size=[100,2])\n",
    "    plt.scatter(pop1[:,0], pop1[:,1], color='blue')\n",
    "    plt.scatter(pop2[:,0], pop2[:,1], color='green')\n",
    "    if not(perceptron is None):\n",
    "        if weights is None and training is None:\n",
    "            print('One of weights or training must be set if a perceptron is passed')\n",
    "        elif not(weights is None):\n",
    "            pass\n",
    "        elif not(training is None):\n",
    "            dataset = np.concatenate([pop1,pop2], axis=0)\n",
    "            labels = np.concatenate([np.zeros(200),np.ones(100)]).reshape(300,1)\n",
    "            weights = training(dataset, labels, perceptron)\n",
    "            print('Your training algorithm got the following weights: {}'.format(weights))\n",
    "        \n",
    "        size=500\n",
    "        X,Y = np.meshgrid(np.linspace(-10,10,size),np.linspace(-10,10,size))\n",
    "        x = np.stack([X,Y], axis=-1)\n",
    "        Z = np.zeros([size,size])\n",
    "        for i in range(size):\n",
    "            for j in range(size):\n",
    "                Z[i,j] = perceptron(x[i,j,:], weights)\n",
    "        plt.contour(X,Y,Z, [0])\n",
    "    plt.xlim([-7, 7])\n",
    "    plt.ylim([-7, 5])"
   ]
  },
  {
   "cell_type": "code",
   "execution_count": 13,
   "metadata": {
    "scrolled": false
   },
   "outputs": [
    {
     "name": "stdout",
     "output_type": "stream",
     "text": [
      "Your training algorithm got the following weights: [  6.26440453  -5.08491531 -15.48032648]\n"
     ]
    },
    {
     "name": "stderr",
     "output_type": "stream",
     "text": [
      "C:\\Users\\sholo\\Miniconda3\\lib\\site-packages\\matplotlib\\contour.py:1173: UserWarning: No contour levels were found within the data range.\n",
      "  warnings.warn(\"No contour levels were found\"\n"
     ]
    },
    {
     "data": {
      "image/png": "[encoded data removed]",
      "text/plain": [
       "<Figure size 432x288 with 1 Axes>"
      ]
     },
     "metadata": {},
     "output_type": "display_data"
    }
   ],
   "source": [
    "problem3(perceptron, training=trainPerceptron)"
   ]
  },
  {
   "cell_type": "markdown",
   "metadata": {},
   "source": [
    "## Problem 4: Training\n",
    "\n",
    "Implement the training algorithm so that your perceptron can learn on its own. Then go back and verify that it is working by redoing the first three problems."
   ]
  },
  {
   "cell_type": "code",
   "execution_count": 29,
   "metadata": {},
   "outputs": [],
   "source": [
    "def trainPerceptron(dataset, labels, perceptron):\n",
    "    \"\"\"\n",
    "    dataset: a numpy array with shape (number of inputs, dimension of inputs)\n",
    "    labels: a numpy array with shape (number of inputs, 1); the labels are either 0 or 1\n",
    "    perceptron: your perceptron function; it must consume the input vector, and a vector of weights\n",
    "    \n",
    "    The function returns a numpy array with the weights. The last weight is the bias.\n",
    "    \"\"\"\n",
    "    weights = np.random.normal(0,1,size=[2+1])\n",
    "    for _ in range(100):\n",
    "        for i in range(dataset.shape[0]):\n",
    "            pred = perceptron(dataset[i,:], weights)\n",
    "            error = labels[i,0] - pred\n",
    "            if error:\n",
    "                weights[:-1] = weights[:-1] + error*dataset[i,:]\n",
    "                weights[-1] = weights[-1] + error\n",
    "                \n",
    "    return weights"
   ]
  },
  {
   "cell_type": "markdown",
   "metadata": {},
   "source": [
    "## Problem 5: Radial Symmetry\n",
    "\n",
    "This problem is non-linear! That means that the perceptron will not be able to solve it on its own. However, this is still solveable if you can find some transformation on the data that will make it linearly separable. A transformation can be any set of functions you want, so long as you can go always go back to the original data somehow.\n",
    "\n",
    "For this problem you should be thinking about the radial symmetry.\n",
    "Ask for hints!"
   ]
  },
  {
   "cell_type": "code",
   "execution_count": 30,
   "metadata": {},
   "outputs": [],
   "source": [
    "def problem5(perceptron=None, weights=None, training=None):\n",
    "    r = np.random.normal(5, 0.5, size=(500,1))\n",
    "    theta = np.random.uniform(0, 2*np.pi, size=(500,1))\n",
    "    pop1 = np.concatenate([r*np.cos(theta), r*np.sin(theta)], axis=-1)\n",
    "    pop2 = np.random.normal([ 0, 0], [ 0.5, 0.5], size=[100,2])\n",
    "    plt.scatter(pop1[:,0], pop1[:,1], color='blue')\n",
    "    plt.scatter(pop2[:,0], pop2[:,1], color='green')\n",
    "    if not(perceptron is None):\n",
    "        if weights is None and training is None:\n",
    "            print('One of weights or training must be set if a perceptron is passed')\n",
    "        elif not(weights is None):\n",
    "            pass\n",
    "        elif not(training is None):\n",
    "            dataset = np.concatenate([pop1,pop2], axis=0)\n",
    "            labels = np.concatenate([np.zeros(500),np.ones(100)]).reshape(600,1)\n",
    "            weights = training(dataset, labels, perceptron)\n",
    "            print('Your training algorithm got the following weights: {}'.format(weights))\n",
    "\n",
    "        size = 500\n",
    "        X,Y = np.meshgrid(np.linspace(-10,10,size),np.linspace(-10,10,size))\n",
    "        x = np.stack([X,Y], axis=-1)\n",
    "        Z = np.zeros([size,size])\n",
    "        for i in range(size):\n",
    "            for j in range(size):\n",
    "                Z[i,j] = perceptron(x[i,j,:], weights)\n",
    "        plt.contour(X,Y,Z, [0])\n",
    "    plt.xlim([-7, 7])\n",
    "    plt.ylim([-7, 7])"
   ]
  },
  {
   "cell_type": "code",
   "execution_count": 31,
   "metadata": {},
   "outputs": [
    {
     "name": "stdout",
     "output_type": "stream",
     "text": [
      "Your training algorithm got the following weights: [-1.22264098 -0.13157287  2.4538388 ]\n"
     ]
    },
    {
     "name": "stderr",
     "output_type": "stream",
     "text": [
      "C:\\Users\\sholo\\Miniconda3\\lib\\site-packages\\matplotlib\\contour.py:1173: UserWarning: No contour levels were found within the data range.\n",
      "  warnings.warn(\"No contour levels were found\"\n"
     ]
    },
    {
     "data": {
      "image/png": "[encoded data removed]",
      "text/plain": [
       "<Figure size 432x288 with 1 Axes>"
      ]
     },
     "metadata": {},
     "output_type": "display_data"
    }
   ],
   "source": [
    "def radialPerceptron(X,W):\n",
    "    r = (X[0]**2 + X[1]**2)**0.5\n",
    "    theta = np.arctan2(X[1],X[0])\n",
    "    X = np.stack([r,theta], axis=-1)\n",
    "    return perceptron(X,W)\n",
    "\n",
    "problem5(radialPerceptron, training=trainPerceptron)"
   ]
  },
  {
   "cell_type": "markdown",
   "metadata": {},
   "source": [
    "## Bonus: More than 2 dimensions"
   ]
  },
  {
   "cell_type": "markdown",
   "metadata": {},
   "source": [
    "For this problem you'll need to build a perceptron with 784 input neurons, one output neuron and one bias. You will also have to build the training algorithm for this perceptron since it is impractical to try to sort through all 784 weights by hand.\n",
    "\n",
    "The data set you'll be dealing with is actually a subset of the MNIST data set: only pictures (28px by 28px) of zeros and ones."
   ]
  },
  {
   "cell_type": "code",
   "execution_count": 17,
   "metadata": {
    "scrolled": true
   },
   "outputs": [
    {
     "data": {
      "image/png": "[encoded data removed]",
      "text/plain": [
       "<Figure size 432x288 with 2 Axes>"
      ]
     },
     "metadata": {},
     "output_type": "display_data"
    }
   ],
   "source": [
    "dataset = np.load('dataset_01.npy')\n",
    "zero = dataset[0,:,:]\n",
    "one  = dataset[6000,:,:]\n",
    "\n",
    "plt.subplot(121)\n",
    "plt.imshow(zero, cmap='gray')\n",
    "plt.xticks([])\n",
    "plt.yticks([])\n",
    "plt.title('Zero')\n",
    "plt.subplot(122)\n",
    "plt.imshow(one, cmap='gray')\n",
    "plt.xticks([])\n",
    "plt.yticks([])\n",
    "plt.title('One');"
   ]
  },
  {
   "cell_type": "markdown",
   "metadata": {},
   "source": [
    "To plot this into two dimensions principal component analysis will be used to reduce the dimensionality to two dimensions. The visuals are convenient, but the error rate is the real stat you should concentrate on."
   ]
  },
  {
   "cell_type": "code",
   "execution_count": 18,
   "metadata": {},
   "outputs": [],
   "source": [
    "def biggerPerceptron(X,w):\n",
    "    \"\"\"\n",
    "    Here is where your code goes\n",
    "    \"\"\"\n",
    "    return w[:-1] @ X + w[-1] >= 0"
   ]
  },
  {
   "cell_type": "code",
   "execution_count": 19,
   "metadata": {},
   "outputs": [],
   "source": [
    "def trainPerceptron(dataset, labels, perceptron):\n",
    "    \"\"\"\n",
    "    dataset: a numpy array with shape (number of inputs, dimension of inputs)\n",
    "    labels: a numpy array with shape (number of inputs, 1); the labels are either 0 or 1\n",
    "    perceptron: your perceptron function; it must consume the input vector, and a vector of weights\n",
    "    \n",
    "    The function returns a numpy array with the weights. The last weight is the bias.\n",
    "    \"\"\"\n",
    "    weights = np.random.normal(0,1,size=[784+1])\n",
    "    for _ in range(10):\n",
    "        for i in range(dataset.shape[0]):\n",
    "            pred = perceptron(dataset[i,:], weights)\n",
    "            error = labels[i,0] - pred\n",
    "            if error:\n",
    "                weights[:-1] = weights[:-1] + error*dataset[i,:]\n",
    "                weights[-1] = weights[-1] + error\n",
    "    return weights"
   ]
  },
  {
   "cell_type": "code",
   "execution_count": 20,
   "metadata": {},
   "outputs": [],
   "source": [
    "def problem5(perceptron=None):\n",
    "    dataset = np.load('dataset_01.npy')/255\n",
    "    labels = np.load('labels_01.npy')\n",
    "    \n",
    "    mean = np.mean(dataset, axis=0)\n",
    "    std  = np.std(dataset, axis=0)\n",
    "    whiteData = np.nan_to_num((dataset - mean)/std).reshape(12665 ,784)\n",
    "    cov = whiteData.T @ whiteData\n",
    "    U, _, _ = np.linalg.svd(cov)\n",
    "    \n",
    "    if perceptron!=None:\n",
    "        weights = trainPerceptron(whiteData, labels, perceptron)\n",
    "\n",
    "    x =  whiteData @ U[:,:2]\n",
    "    plt.scatter(x[:5923,0], x[:5923,1], color='blue', s=2)\n",
    "    plt.scatter(x[5923:,0], x[5923:,1], color='green', s=2)\n",
    "    \n",
    "    if perceptron!=None:        \n",
    "        size = 500\n",
    "        X,Y = np.meshgrid(np.linspace(-40,25,size),np.linspace(-40,50,size))\n",
    "        x = np.stack([X,Y], axis=-1)\n",
    "        Z = np.zeros([size,size])\n",
    "        for i in range(size):\n",
    "            for j in range(size):\n",
    "                Z[i,j] = perceptron(U[:,:2] @ x[i,j,:], weights)\n",
    "        plt.contour(X,Y,Z, [0])\n",
    "    plt.xlim([-30,15])\n",
    "    plt.ylim([-30,40])"
   ]
  },
  {
   "cell_type": "code",
   "execution_count": 21,
   "metadata": {},
   "outputs": [
    {
     "name": "stderr",
     "output_type": "stream",
     "text": [
      "C:\\Users\\sholo\\Miniconda3\\lib\\site-packages\\ipykernel_launcher.py:7: RuntimeWarning: invalid value encountered in true_divide\n",
      "  import sys\n",
      "C:\\Users\\sholo\\Miniconda3\\lib\\site-packages\\matplotlib\\contour.py:1173: UserWarning: No contour levels were found within the data range.\n",
      "  warnings.warn(\"No contour levels were found\"\n"
     ]
    },
    {
     "data": {
      "image/png": "[encoded data removed]",
      "text/plain": [
       "<Figure size 432x288 with 1 Axes>"
      ]
     },
     "metadata": {},
     "output_type": "display_data"
    }
   ],
   "source": [
    "problem5(biggerPerceptron)"
   ]
  },
  {
   "cell_type": "code",
   "execution_count": null,
   "metadata": {},
   "outputs": [],
   "source": []
  },
  {
   "cell_type": "code",
   "execution_count": null,
   "metadata": {},
   "outputs": [],
   "source": []
  }
 ],
 "metadata": {
  "kernelspec": {
   "display_name": "Python 3",
   "language": "python",
   "name": "python3"
  },
  "language_info": {
   "codemirror_mode": {
    "name": "ipython",
    "version": 3
   },
   "file_extension": ".py",
   "mimetype": "text/x-python",
   "name": "python",
   "nbconvert_exporter": "python",
   "pygments_lexer": "ipython3",
   "version": "3.6.5"
  }
 },
 "nbformat": 4,
 "nbformat_minor": 2
}
