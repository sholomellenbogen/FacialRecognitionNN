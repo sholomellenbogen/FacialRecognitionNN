{
 "cells": [
  {
   "cell_type": "code",
   "execution_count": 101,
   "metadata": {},
   "outputs": [],
   "source": [
    "from clarifai.rest import ClarifaiApp\n",
    "from clarifai.rest import Image as ClImage\n",
    "import os\n",
    "envKey=os.getenv('CLARIFAI_API_KEY')\n",
    "app = ClarifaiApp(api_key=envKey)\n",
    "model = app.models.get('d02b4508df58432fbb84e800597b8959')\n",
    "image = ClImage(file_obj=open('Me.jpg', 'rb'))\n",
    "r = model.predict([image])\n",
    "me = r[\"outputs\"][0][\"data\"][\"regions\"][0][\"data\"][\"embeddings\"][0][\"vector\"]"
   ]
  },
  {
   "cell_type": "code",
   "execution_count": 108,
   "metadata": {},
   "outputs": [
    {
     "name": "stdout",
     "output_type": "stream",
     "text": [
      "Hello Sholom!\n"
     ]
    }
   ],
   "source": [
    "import cv2\n",
    "cap = cv2.VideoCapture(1)\n",
    "\n",
    "while(True):\n",
    "    ret, frame = cap.read()\n",
    "    rgb = cv2.cvtColor(frame, cv2.COLOR_BGR2BGRA)\n",
    "\n",
    "    cv2.imshow('frame', rgb)\n",
    "    if cv2.waitKey(1) & 0xFF == ord('q'):\n",
    "        out = cv2.imwrite('capture.jpg', frame)\n",
    "        break\n",
    "\n",
    "cap.release()\n",
    "cv2.destroyAllWindows()\n",
    "\n",
    "\n",
    "image2 = ClImage(file_obj=open('capture.jpg', 'rb'))\n",
    "r2 = model.predict([image2])\n",
    "notMe = r2[\"outputs\"][0][\"data\"][\"regions\"][0][\"data\"][\"embeddings\"][0][\"vector\"]\n",
    "\n",
    "\n",
    "\n",
    "import numpy as np\n",
    "me2 = np.asarray(me)\n",
    "notMe2 = np.asarray(notMe)\n",
    "diff = 1-np.dot(me2,notMe2)\n",
    "if(diff < 0.275) :\n",
    "    print(\"Hello Sholom!\")\n",
    "else :\n",
    "    print(\"STRANGER DANGER STRANGER DANGER STRANGER AHHHHHHHHHHHHHHHHHHHH!!!!\")"
   ]
  },
  {
   "cell_type": "code",
   "execution_count": 109,
   "metadata": {},
   "outputs": [],
   "source": [
    "# import matplotlib.pyplot as plt\n",
    "# plt.imread('1.pgm')"
   ]
  },
  {
   "cell_type": "code",
   "execution_count": null,
   "metadata": {},
   "outputs": [],
   "source": []
  },
  {
   "cell_type": "code",
   "execution_count": null,
   "metadata": {},
   "outputs": [],
   "source": []
  }
 ],
 "metadata": {
  "kernelspec": {
   "display_name": "Python 3",
   "language": "python",
   "name": "python3"
  },
  "language_info": {
   "codemirror_mode": {
    "name": "ipython",
    "version": 3
   },
   "file_extension": ".py",
   "mimetype": "text/x-python",
   "name": "python",
   "nbconvert_exporter": "python",
   "pygments_lexer": "ipython3",
   "version": "3.5.5"
  }
 },
 "nbformat": 4,
 "nbformat_minor": 2
}
